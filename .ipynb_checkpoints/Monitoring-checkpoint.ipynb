{
 "cells": [
  {
   "cell_type": "code",
   "execution_count": 11,
   "id": "beb1a012",
   "metadata": {},
   "outputs": [
    {
     "name": "stdout",
     "output_type": "stream",
     "text": [
      "Enter the website to monitor: www.digikala.com\n",
      "Enter the time interval to check website: 1\n",
      "Enter the sender's email: gisooghafari@gmail.com\n",
      "Enter the password: GISOOgisoo2000\n",
      "Enter the receiver's email: farideh.ebrahymy@gmail.com\n",
      "Login failed: (535, b'5.7.8 Username and Password not accepted. For more information, go to\\n5.7.8  https://support.google.com/mail/?p=BadCredentials o4-20020a05600c510400b0041624ddff48sm2454080wms.28 - gsmtp')\n",
      "Login failed: (535, b'5.7.8 Username and Password not accepted. For more information, go to\\n5.7.8  https://support.google.com/mail/?p=BadCredentials q12-20020a05600c46cc00b00416e2c8b290sm2235733wmo.1 - gsmtp')\n",
      "Login failed: (535, b'5.7.8 Username and Password not accepted. For more information, go to\\n5.7.8  https://support.google.com/mail/?p=BadCredentials p8-20020a05600c358800b00414659ba8c2sm2456867wmq.37 - gsmtp')\n",
      "Login failed: (535, b'5.7.8 Username and Password not accepted. For more information, go to\\n5.7.8  https://support.google.com/mail/?p=BadCredentials r12-20020a056000014c00b00346406a5c80sm3144396wrx.32 - gsmtp')\n",
      "Login failed: (535, b'5.7.8 Username and Password not accepted. For more information, go to\\n5.7.8  https://support.google.com/mail/?p=BadCredentials r24-20020adfb1d8000000b00341b451a31asm14024276wra.36 - gsmtp')\n",
      "Login failed: (535, b'5.7.8 Username and Password not accepted. For more information, go to\\n5.7.8  https://support.google.com/mail/?p=BadCredentials fm6-20020a05600c0c0600b004156afd6843sm2446021wmb.18 - gsmtp')\n",
      "Login failed: (535, b'5.7.8 Username and Password not accepted. For more information, go to\\n5.7.8  https://support.google.com/mail/?p=BadCredentials i7-20020a05600c354700b00416928e239csm2453643wmq.35 - gsmtp')\n",
      "Login failed: (535, b'5.7.8 Username and Password not accepted. For more information, go to\\n5.7.8  https://support.google.com/mail/?p=BadCredentials m6-20020adff386000000b00343300a4eb8sm13817105wro.49 - gsmtp')\n",
      "Login failed: (535, b'5.7.8 Username and Password not accepted. For more information, go to\\n5.7.8  https://support.google.com/mail/?p=BadCredentials z15-20020a5d4c8f000000b00343daeddcb2sm13964691wrs.45 - gsmtp')\n",
      "Login failed: (535, b'5.7.8 Username and Password not accepted. For more information, go to\\n5.7.8  https://support.google.com/mail/?p=BadCredentials o5-20020a05600c510500b0041668770f37sm2453661wms.17 - gsmtp')\n",
      "Login failed: (535, b'5.7.8 Username and Password not accepted. For more information, go to\\n5.7.8  https://support.google.com/mail/?p=BadCredentials u7-20020a05600c138700b00416290b3e1dsm2453273wmf.24 - gsmtp')\n",
      "Login failed: (535, b'5.7.8 Username and Password not accepted. For more information, go to\\n5.7.8  https://support.google.com/mail/?p=BadCredentials gw7-20020a05600c850700b004146e58cc35sm2471865wmb.46 - gsmtp')\n",
      "Login failed: (535, b'5.7.8 Username and Password not accepted. For more information, go to\\n5.7.8  https://support.google.com/mail/?p=BadCredentials m5-20020a05600c4f4500b00416cac63b11sm2392493wmq.3 - gsmtp')\n",
      "Login failed: (535, b'5.7.8 Username and Password not accepted. For more information, go to\\n5.7.8  https://support.google.com/mail/?p=BadCredentials a21-20020a05600c349500b0041680911b0fsm2444810wmq.30 - gsmtp')\n",
      "Login failed: (535, b'5.7.8 Username and Password not accepted. For more information, go to\\n5.7.8  https://support.google.com/mail/?p=BadCredentials n21-20020adf8b15000000b003469053c910sm576430wra.103 - gsmtp')\n",
      "Login failed: (535, b'5.7.8 Username and Password not accepted. For more information, go to\\n5.7.8  https://support.google.com/mail/?p=BadCredentials p19-20020a05600c1d9300b00416bf7b68f6sm2453224wms.31 - gsmtp')\n",
      "Login failed: (535, b'5.7.8 Username and Password not accepted. For more information, go to\\n5.7.8  https://support.google.com/mail/?p=BadCredentials d6-20020a056000114600b003456c693fa4sm9613737wrx.93 - gsmtp')\n",
      "Login failed: (535, b'5.7.8 Username and Password not accepted. For more information, go to\\n5.7.8  https://support.google.com/mail/?p=BadCredentials d26-20020adfa35a000000b003469e7f5c52sm102930wrb.80 - gsmtp')\n",
      "Login failed: (535, b'5.7.8 Username and Password not accepted. For more information, go to\\n5.7.8  https://support.google.com/mail/?p=BadCredentials v9-20020a05600c444900b00415dfa709dasm2434007wmn.15 - gsmtp')\n",
      "Login failed: (535, b'5.7.8 Username and Password not accepted. For more information, go to\\n5.7.8  https://support.google.com/mail/?p=BadCredentials q13-20020a056000136d00b00343e3023fbasm13588871wrz.34 - gsmtp')\n",
      "Login failed: (535, b'5.7.8 Username and Password not accepted. For more information, go to\\n5.7.8  https://support.google.com/mail/?p=BadCredentials z15-20020a5d4c8f000000b00343daeddcb2sm13966087wrs.45 - gsmtp')\n",
      "Login failed: (535, b'5.7.8 Username and Password not accepted. For more information, go to\\n5.7.8  https://support.google.com/mail/?p=BadCredentials q12-20020a05600c46cc00b00416e2c8b290sm2239238wmo.1 - gsmtp')\n",
      "Login failed: (535, b'5.7.8 Username and Password not accepted. For more information, go to\\n5.7.8  https://support.google.com/mail/?p=BadCredentials s10-20020a05600c45ca00b004162b4c6366sm2421957wmo.20 - gsmtp')\n",
      "Login failed: (535, b'5.7.8 Username and Password not accepted. For more information, go to\\n5.7.8  https://support.google.com/mail/?p=BadCredentials r4-20020a5d6944000000b00343b09729easm13958636wrw.69 - gsmtp')\n",
      "Login failed: (535, b'5.7.8 Username and Password not accepted. For more information, go to\\n5.7.8  https://support.google.com/mail/?p=BadCredentials g8-20020a05600c310800b00416a6340025sm2435979wmo.6 - gsmtp')\n",
      "Login failed: (535, b'5.7.8 Username and Password not accepted. For more information, go to\\n5.7.8  https://support.google.com/mail/?p=BadCredentials n18-20020a05600c501200b004162ce49719sm2455973wmr.6 - gsmtp')\n",
      "Login failed: (535, b'5.7.8 Username and Password not accepted. For more information, go to\\n5.7.8  https://support.google.com/mail/?p=BadCredentials o4-20020a05600c4fc400b004170e0aff7asm2055949wmq.35 - gsmtp')\n",
      "Login failed: (535, b'5.7.8 Username and Password not accepted. For more information, go to\\n5.7.8  https://support.google.com/mail/?p=BadCredentials q6-20020a05600c46c600b00417bab31bd2sm1478211wmo.26 - gsmtp')\n",
      "Login failed: (535, b'5.7.8 Username and Password not accepted. For more information, go to\\n5.7.8  https://support.google.com/mail/?p=BadCredentials d2-20020adff842000000b00343c06d75bfsm13901297wrq.61 - gsmtp')\n",
      "Login failed: (535, b'5.7.8 Username and Password not accepted. For more information, go to\\n5.7.8  https://support.google.com/mail/?p=BadCredentials i7-20020a05600c354700b00416928e239csm2457511wmq.35 - gsmtp')\n",
      "Login failed: (535, b'5.7.8 Username and Password not accepted. For more information, go to\\n5.7.8  https://support.google.com/mail/?p=BadCredentials h2-20020adff182000000b00343e6bec771sm13544929wro.94 - gsmtp')\n",
      "Login failed: (535, b'5.7.8 Username and Password not accepted. For more information, go to\\n5.7.8  https://support.google.com/mail/?p=BadCredentials fc18-20020a05600c525200b0041563096e15sm2478270wmb.5 - gsmtp')\n",
      "Login failed: (535, b'5.7.8 Username and Password not accepted. For more information, go to\\n5.7.8  https://support.google.com/mail/?p=BadCredentials u7-20020a05600c138700b00416290b3e1dsm2456917wmf.24 - gsmtp')\n",
      "Login failed: (535, b'5.7.8 Username and Password not accepted. For more information, go to\\n5.7.8  https://support.google.com/mail/?p=BadCredentials l10-20020adfe58a000000b003434f526cb5sm13719424wrm.95 - gsmtp')\n",
      "Login failed: (535, b'5.7.8 Username and Password not accepted. For more information, go to\\n5.7.8  https://support.google.com/mail/?p=BadCredentials h16-20020a05600c351000b00414688af147sm2442318wmq.20 - gsmtp')\n",
      "Login failed: (535, b'5.7.8 Username and Password not accepted. For more information, go to\\n5.7.8  https://support.google.com/mail/?p=BadCredentials n12-20020a05600c3b8c00b004165315d885sm2444258wms.11 - gsmtp')\n",
      "Login failed: (535, b'5.7.8 Username and Password not accepted. For more information, go to\\n5.7.8  https://support.google.com/mail/?p=BadCredentials bg25-20020a05600c3c9900b004162d06768bsm2468603wmb.21 - gsmtp')\n",
      "Login failed: (535, b'5.7.8 Username and Password not accepted. For more information, go to\\n5.7.8  https://support.google.com/mail/?p=BadCredentials c12-20020a05600c0a4c00b00416770871f7sm2453173wmq.25 - gsmtp')\n"
     ]
    },
    {
     "name": "stdout",
     "output_type": "stream",
     "text": [
      "Login failed: (535, b'5.7.8 Username and Password not accepted. For more information, go to\\n5.7.8  https://support.google.com/mail/?p=BadCredentials jh4-20020a05600ca08400b004147db8a91asm2372723wmb.40 - gsmtp')\n",
      "Login failed: (535, b'5.7.8 Username and Password not accepted. For more information, go to\\n5.7.8  https://support.google.com/mail/?p=BadCredentials z6-20020a5d44c6000000b003438f4eef2dsm13869511wrr.63 - gsmtp')\n",
      "Login failed: (535, b'5.7.8 Username and Password not accepted. For more information, go to\\n5.7.8  https://support.google.com/mail/?p=BadCredentials r4-20020a05600c35c400b004163321790esm2454045wmq.19 - gsmtp')\n"
     ]
    },
    {
     "ename": "SMTPServerDisconnected",
     "evalue": "Connection unexpectedly closed",
     "output_type": "error",
     "traceback": [
      "\u001b[1;31m---------------------------------------------------------------------------\u001b[0m",
      "\u001b[1;31mSMTPServerDisconnected\u001b[0m                    Traceback (most recent call last)",
      "Input \u001b[1;32mIn [11]\u001b[0m, in \u001b[0;36m<cell line: 57>\u001b[1;34m()\u001b[0m\n\u001b[0;32m     52\u001b[0m subject \u001b[38;5;241m=\u001b[39m \u001b[38;5;124m\"\u001b[39m\u001b[38;5;124mStatus of website\u001b[39m\u001b[38;5;124m\"\u001b[39m\n\u001b[0;32m     56\u001b[0m \u001b[38;5;66;03m#Monitoring website\u001b[39;00m\n\u001b[1;32m---> 57\u001b[0m \u001b[43mmonitor_website\u001b[49m\u001b[43m(\u001b[49m\u001b[43m)\u001b[49m\n",
      "Input \u001b[1;32mIn [11]\u001b[0m, in \u001b[0;36mmonitor_website\u001b[1;34m()\u001b[0m\n\u001b[0;32m     26\u001b[0m     send_email(\u001b[38;5;124m\"\u001b[39m\u001b[38;5;124mThe website is down\u001b[39m\u001b[38;5;124m\"\u001b[39m)\n\u001b[0;32m     27\u001b[0m \u001b[38;5;28;01melse\u001b[39;00m:\n\u001b[1;32m---> 28\u001b[0m     \u001b[43msend_email\u001b[49m\u001b[43m(\u001b[49m\u001b[38;5;124;43m\"\u001b[39;49m\u001b[38;5;124;43mThe website is up\u001b[39;49m\u001b[38;5;124;43m\"\u001b[39;49m\u001b[43m)\u001b[49m\n\u001b[0;32m     29\u001b[0m     \u001b[38;5;66;03m#Open url and create the hash code\u001b[39;00m\n\u001b[0;32m     30\u001b[0m     response \u001b[38;5;241m=\u001b[39m urllib\u001b[38;5;241m.\u001b[39mrequest\u001b[38;5;241m.\u001b[39murlopen(input_website)\u001b[38;5;241m.\u001b[39mread()\n",
      "Input \u001b[1;32mIn [11]\u001b[0m, in \u001b[0;36msend_email\u001b[1;34m(email_string)\u001b[0m\n\u001b[0;32m      7\u001b[0m \u001b[38;5;28;01mtry\u001b[39;00m:\n\u001b[0;32m      8\u001b[0m     smtp_server \u001b[38;5;241m=\u001b[39m smtplib\u001b[38;5;241m.\u001b[39mSMTP_SSL(\u001b[38;5;124m\"\u001b[39m\u001b[38;5;124msmtp.gmail.com\u001b[39m\u001b[38;5;124m\"\u001b[39m, \u001b[38;5;241m465\u001b[39m)\n\u001b[1;32m----> 9\u001b[0m     \u001b[43msmtp_server\u001b[49m\u001b[38;5;241;43m.\u001b[39;49m\u001b[43mlogin\u001b[49m\u001b[43m(\u001b[49m\u001b[43memail_from\u001b[49m\u001b[43m,\u001b[49m\u001b[43m \u001b[49m\u001b[43mpassword\u001b[49m\u001b[43m)\u001b[49m\n\u001b[0;32m     10\u001b[0m     message \u001b[38;5;241m=\u001b[39m \u001b[38;5;124mf\u001b[39m\u001b[38;5;124m\"\u001b[39m\u001b[38;5;124mSubject: \u001b[39m\u001b[38;5;132;01m{\u001b[39;00msubject\u001b[38;5;132;01m}\u001b[39;00m\u001b[38;5;130;01m\\n\u001b[39;00m\u001b[38;5;130;01m\\n\u001b[39;00m\u001b[38;5;132;01m{\u001b[39;00memail_string\u001b[38;5;132;01m}\u001b[39;00m\u001b[38;5;124m\"\u001b[39m\n\u001b[0;32m     11\u001b[0m     smtp_server\u001b[38;5;241m.\u001b[39msendmail(email_from, email_to, message)\n",
      "File \u001b[1;32m~\\AppData\\Local\\Programs\\Python\\Python310\\lib\\smtplib.py:739\u001b[0m, in \u001b[0;36mSMTP.login\u001b[1;34m(self, user, password, initial_response_ok)\u001b[0m\n\u001b[0;32m    737\u001b[0m method_name \u001b[38;5;241m=\u001b[39m \u001b[38;5;124m'\u001b[39m\u001b[38;5;124mauth_\u001b[39m\u001b[38;5;124m'\u001b[39m \u001b[38;5;241m+\u001b[39m authmethod\u001b[38;5;241m.\u001b[39mlower()\u001b[38;5;241m.\u001b[39mreplace(\u001b[38;5;124m'\u001b[39m\u001b[38;5;124m-\u001b[39m\u001b[38;5;124m'\u001b[39m, \u001b[38;5;124m'\u001b[39m\u001b[38;5;124m_\u001b[39m\u001b[38;5;124m'\u001b[39m)\n\u001b[0;32m    738\u001b[0m \u001b[38;5;28;01mtry\u001b[39;00m:\n\u001b[1;32m--> 739\u001b[0m     (code, resp) \u001b[38;5;241m=\u001b[39m \u001b[38;5;28;43mself\u001b[39;49m\u001b[38;5;241;43m.\u001b[39;49m\u001b[43mauth\u001b[49m\u001b[43m(\u001b[49m\n\u001b[0;32m    740\u001b[0m \u001b[43m        \u001b[49m\u001b[43mauthmethod\u001b[49m\u001b[43m,\u001b[49m\u001b[43m \u001b[49m\u001b[38;5;28;43mgetattr\u001b[39;49m\u001b[43m(\u001b[49m\u001b[38;5;28;43mself\u001b[39;49m\u001b[43m,\u001b[49m\u001b[43m \u001b[49m\u001b[43mmethod_name\u001b[49m\u001b[43m)\u001b[49m\u001b[43m,\u001b[49m\n\u001b[0;32m    741\u001b[0m \u001b[43m        \u001b[49m\u001b[43minitial_response_ok\u001b[49m\u001b[38;5;241;43m=\u001b[39;49m\u001b[43minitial_response_ok\u001b[49m\u001b[43m)\u001b[49m\n\u001b[0;32m    742\u001b[0m     \u001b[38;5;66;03m# 235 == 'Authentication successful'\u001b[39;00m\n\u001b[0;32m    743\u001b[0m     \u001b[38;5;66;03m# 503 == 'Error: already authenticated'\u001b[39;00m\n\u001b[0;32m    744\u001b[0m     \u001b[38;5;28;01mif\u001b[39;00m code \u001b[38;5;129;01min\u001b[39;00m (\u001b[38;5;241m235\u001b[39m, \u001b[38;5;241m503\u001b[39m):\n",
      "File \u001b[1;32m~\\AppData\\Local\\Programs\\Python\\Python310\\lib\\smtplib.py:642\u001b[0m, in \u001b[0;36mSMTP.auth\u001b[1;34m(self, mechanism, authobject, initial_response_ok)\u001b[0m\n\u001b[0;32m    640\u001b[0m \u001b[38;5;28;01mif\u001b[39;00m initial_response \u001b[38;5;129;01mis\u001b[39;00m \u001b[38;5;129;01mnot\u001b[39;00m \u001b[38;5;28;01mNone\u001b[39;00m:\n\u001b[0;32m    641\u001b[0m     response \u001b[38;5;241m=\u001b[39m encode_base64(initial_response\u001b[38;5;241m.\u001b[39mencode(\u001b[38;5;124m'\u001b[39m\u001b[38;5;124mascii\u001b[39m\u001b[38;5;124m'\u001b[39m), eol\u001b[38;5;241m=\u001b[39m\u001b[38;5;124m'\u001b[39m\u001b[38;5;124m'\u001b[39m)\n\u001b[1;32m--> 642\u001b[0m     (code, resp) \u001b[38;5;241m=\u001b[39m \u001b[38;5;28;43mself\u001b[39;49m\u001b[38;5;241;43m.\u001b[39;49m\u001b[43mdocmd\u001b[49m\u001b[43m(\u001b[49m\u001b[38;5;124;43m\"\u001b[39;49m\u001b[38;5;124;43mAUTH\u001b[39;49m\u001b[38;5;124;43m\"\u001b[39;49m\u001b[43m,\u001b[49m\u001b[43m \u001b[49m\u001b[43mmechanism\u001b[49m\u001b[43m \u001b[49m\u001b[38;5;241;43m+\u001b[39;49m\u001b[43m \u001b[49m\u001b[38;5;124;43m\"\u001b[39;49m\u001b[38;5;124;43m \u001b[39;49m\u001b[38;5;124;43m\"\u001b[39;49m\u001b[43m \u001b[49m\u001b[38;5;241;43m+\u001b[39;49m\u001b[43m \u001b[49m\u001b[43mresponse\u001b[49m\u001b[43m)\u001b[49m\n\u001b[0;32m    643\u001b[0m     \u001b[38;5;28mself\u001b[39m\u001b[38;5;241m.\u001b[39m_auth_challenge_count \u001b[38;5;241m=\u001b[39m \u001b[38;5;241m1\u001b[39m\n\u001b[0;32m    644\u001b[0m \u001b[38;5;28;01melse\u001b[39;00m:\n",
      "File \u001b[1;32m~\\AppData\\Local\\Programs\\Python\\Python310\\lib\\smtplib.py:432\u001b[0m, in \u001b[0;36mSMTP.docmd\u001b[1;34m(self, cmd, args)\u001b[0m\n\u001b[0;32m    430\u001b[0m \u001b[38;5;250m\u001b[39m\u001b[38;5;124;03m\"\"\"Send a command, and return its response code.\"\"\"\u001b[39;00m\n\u001b[0;32m    431\u001b[0m \u001b[38;5;28mself\u001b[39m\u001b[38;5;241m.\u001b[39mputcmd(cmd, args)\n\u001b[1;32m--> 432\u001b[0m \u001b[38;5;28;01mreturn\u001b[39;00m \u001b[38;5;28;43mself\u001b[39;49m\u001b[38;5;241;43m.\u001b[39;49m\u001b[43mgetreply\u001b[49m\u001b[43m(\u001b[49m\u001b[43m)\u001b[49m\n",
      "File \u001b[1;32m~\\AppData\\Local\\Programs\\Python\\Python310\\lib\\smtplib.py:405\u001b[0m, in \u001b[0;36mSMTP.getreply\u001b[1;34m(self)\u001b[0m\n\u001b[0;32m    403\u001b[0m \u001b[38;5;28;01mif\u001b[39;00m \u001b[38;5;129;01mnot\u001b[39;00m line:\n\u001b[0;32m    404\u001b[0m     \u001b[38;5;28mself\u001b[39m\u001b[38;5;241m.\u001b[39mclose()\n\u001b[1;32m--> 405\u001b[0m     \u001b[38;5;28;01mraise\u001b[39;00m SMTPServerDisconnected(\u001b[38;5;124m\"\u001b[39m\u001b[38;5;124mConnection unexpectedly closed\u001b[39m\u001b[38;5;124m\"\u001b[39m)\n\u001b[0;32m    406\u001b[0m \u001b[38;5;28;01mif\u001b[39;00m \u001b[38;5;28mself\u001b[39m\u001b[38;5;241m.\u001b[39mdebuglevel \u001b[38;5;241m>\u001b[39m \u001b[38;5;241m0\u001b[39m:\n\u001b[0;32m    407\u001b[0m     \u001b[38;5;28mself\u001b[39m\u001b[38;5;241m.\u001b[39m_print_debug(\u001b[38;5;124m'\u001b[39m\u001b[38;5;124mreply:\u001b[39m\u001b[38;5;124m'\u001b[39m, \u001b[38;5;28mrepr\u001b[39m(line))\n",
      "\u001b[1;31mSMTPServerDisconnected\u001b[0m: Connection unexpectedly closed"
     ]
    }
   ],
   "source": [
    "#Import libraries\n",
    "import urllib.request\n",
    "import smtplib,time, hashlib\n",
    "\n",
    "#Function to send email\n",
    "def send_email(email_string):\n",
    "    try:\n",
    "        smtp_server = smtplib.SMTP_SSL(\"smtp.gmail.com\", 465)\n",
    "        smtp_server.login(email_from, password)\n",
    "        message = f\"Subject: {subject}\\n\\n{email_string}\"\n",
    "        smtp_server.sendmail(email_from, email_to, message)\n",
    "    except smtplib.SMTPAuthenticationError as e:\n",
    "        print(f\"Login failed: {e}\")\n",
    "    finally:\n",
    "        smtp_server.close()\n",
    "\n",
    "#Monitor the website\n",
    "def monitor_website():\n",
    "    #Run the loop the keep monitoring   \n",
    "    while True:\n",
    "        #Visit the website to know if it is up\n",
    "        status = urllib.request.urlopen(input_website).getcode()\n",
    "        #If it returns 200, the website is up\n",
    "        if status != 200:\n",
    "            #Call email function\n",
    "            send_email(\"The website is down\")\n",
    "        else:\n",
    "            send_email(\"The website is up\")\n",
    "            #Open url and create the hash code\n",
    "            response = urllib.request.urlopen(input_website).read()\n",
    "            current_hash = hashlib.sha224(response).hexdigest()\n",
    "            #Revisit the website after time delay\n",
    "            time.sleep(time_delay)\n",
    "            #Visit the website after delay, and generate the new website\n",
    "            response = urllib.request.urlopen(input_website).read()\n",
    "            new_hash = hashlib.sha224(response).hexdigest()\n",
    "            #Check the hash codes\n",
    "            if new_hash != current_hash:\n",
    "                send_email(\"The website changed\")\n",
    " \n",
    "\n",
    "\n",
    "#Read the website and read time interval\n",
    "input_website = input('Enter the website to monitor: ')\n",
    "input_website = 'https://'+input_website\n",
    "time_delay = int(input('Enter the time interval to check website: '))\n",
    "\n",
    "email_from = input('Enter the sender\\'s email: ')\n",
    "password = input('Enter the password: ')\n",
    "email_to = input('Enter the receiver\\'s email: ')\n",
    "#Enter subject line\n",
    "subject = \"Status of website\"\n",
    "\n",
    "\n",
    "\n",
    "#Monitoring website\n",
    "monitor_website()\n",
    "\n"
   ]
  },
  {
   "cell_type": "code",
   "execution_count": null,
   "id": "9fa0ce4a",
   "metadata": {},
   "outputs": [],
   "source": [
    "Enter the website to monitor: www.digikala.com\n",
    "Enter the time interval to check website: 1\n",
    "Enter the sender's email: gisooghafari@gmail.com\n",
    "Enter the password: GISOOgisoo2000\n",
    "Enter the receiver's email: farideh.ebrahymy@gmail.com"
   ]
  },
  {
   "cell_type": "code",
   "execution_count": null,
   "id": "71803cb5",
   "metadata": {},
   "outputs": [],
   "source": []
  },
  {
   "cell_type": "code",
   "execution_count": 2,
   "id": "145bd72e",
   "metadata": {},
   "outputs": [
    {
     "name": "stdout",
     "output_type": "stream",
     "text": [
      "Requirement already satisfied: linode_api4 in c:\\users\\alpha\\desktop\\monitor\\menv\\lib\\site-packages (5.14.0)\n",
      "Requirement already satisfied: requests in c:\\users\\alpha\\desktop\\monitor\\menv\\lib\\site-packages (from linode_api4) (2.31.0)\n",
      "Requirement already satisfied: polling in c:\\users\\alpha\\desktop\\monitor\\menv\\lib\\site-packages (from linode_api4) (0.3.2)\n",
      "Requirement already satisfied: charset-normalizer<4,>=2 in c:\\users\\alpha\\desktop\\monitor\\menv\\lib\\site-packages (from requests->linode_api4) (3.3.2)\n",
      "Requirement already satisfied: idna<4,>=2.5 in c:\\users\\alpha\\desktop\\monitor\\menv\\lib\\site-packages (from requests->linode_api4) (3.6)\n",
      "Requirement already satisfied: urllib3<3,>=1.21.1 in c:\\users\\alpha\\desktop\\monitor\\menv\\lib\\site-packages (from requests->linode_api4) (2.2.1)\n",
      "Requirement already satisfied: certifi>=2017.4.17 in c:\\users\\alpha\\desktop\\monitor\\menv\\lib\\site-packages (from requests->linode_api4) (2024.2.2)\n"
     ]
    }
   ],
   "source": [
    "!pip install linode_api4\n"
   ]
  },
  {
   "cell_type": "code",
   "execution_count": 4,
   "id": "3539cc61",
   "metadata": {},
   "outputs": [
    {
     "ename": "ModuleNotFoundError",
     "evalue": "No module named 'linode_api4'",
     "output_type": "error",
     "traceback": [
      "\u001b[1;31m---------------------------------------------------------------------------\u001b[0m",
      "\u001b[1;31mModuleNotFoundError\u001b[0m                       Traceback (most recent call last)",
      "Input \u001b[1;32mIn [4]\u001b[0m, in \u001b[0;36m<cell line: 1>\u001b[1;34m()\u001b[0m\n\u001b[1;32m----> 1\u001b[0m \u001b[38;5;28;01mimport\u001b[39;00m \u001b[38;5;21;01mlinode_api4\u001b[39;00m\n",
      "\u001b[1;31mModuleNotFoundError\u001b[0m: No module named 'linode_api4'"
     ]
    }
   ],
   "source": [
    "import linode_api4\n"
   ]
  },
  {
   "cell_type": "code",
   "execution_count": null,
   "id": "d51f2cee",
   "metadata": {},
   "outputs": [],
   "source": []
  }
 ],
 "metadata": {
  "kernelspec": {
   "display_name": "Python 3 (ipykernel)",
   "language": "python",
   "name": "python3"
  },
  "language_info": {
   "codemirror_mode": {
    "name": "ipython",
    "version": 3
   },
   "file_extension": ".py",
   "mimetype": "text/x-python",
   "name": "python",
   "nbconvert_exporter": "python",
   "pygments_lexer": "ipython3",
   "version": "3.10.5"
  }
 },
 "nbformat": 4,
 "nbformat_minor": 5
}
